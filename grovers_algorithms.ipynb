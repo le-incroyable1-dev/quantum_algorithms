{
 "cells": [
  {
   "attachments": {},
   "cell_type": "markdown",
   "metadata": {},
   "source": [
    "Grover's' Algorithm\n",
    "This algorithm can speed up an unstructured search problem quadratically, but its uses extend beyond that; it can serve as a general trick or subroutine to obtain quadratic run time improvements for a variety of other algorithms. This is called the amplitude amplification trick."
   ]
  },
  {
   "cell_type": "code",
   "execution_count": 1,
   "metadata": {},
   "outputs": [],
   "source": [
    "#initialization\n",
    "import matplotlib.pyplot as plt\n",
    "import numpy as np\n",
    "import math\n",
    "\n",
    "# importing Qiskit\n",
    "from qiskit import IBMQ, Aer, transpile, execute\n",
    "from qiskit import QuantumCircuit, ClassicalRegister, QuantumRegister\n",
    "from qiskit.providers.ibmq import least_busy\n",
    "\n",
    "# import basic plot tools\n",
    "from qiskit.visualization import plot_histogram"
   ]
  },
  {
   "cell_type": "code",
   "execution_count": 2,
   "metadata": {},
   "outputs": [],
   "source": [
    "n = 2\n",
    "grover_c = QuantumCircuit(n)"
   ]
  },
  {
   "cell_type": "code",
   "execution_count": 3,
   "metadata": {},
   "outputs": [
    {
     "data": {
      "text/html": [
       "<pre style=\"word-wrap: normal;white-space: pre;background: #fff0;line-height: 1.1;font-family: &quot;Courier New&quot;,Courier,monospace\">     ┌───┐\n",
       "q_0: ┤ H ├\n",
       "     ├───┤\n",
       "q_1: ┤ H ├\n",
       "     └───┘</pre>"
      ],
      "text/plain": [
       "     ┌───┐\n",
       "q_0: ┤ H ├\n",
       "     ├───┤\n",
       "q_1: ┤ H ├\n",
       "     └───┘"
      ]
     },
     "execution_count": 3,
     "metadata": {},
     "output_type": "execute_result"
    }
   ],
   "source": [
    "for qubit in range(n):\n",
    "    grover_c.h(qubit)\n",
    "\n",
    "grover_c.draw()"
   ]
  },
  {
   "cell_type": "code",
   "execution_count": 4,
   "metadata": {},
   "outputs": [
    {
     "data": {
      "text/html": [
       "<pre style=\"word-wrap: normal;white-space: pre;background: #fff0;line-height: 1.1;font-family: &quot;Courier New&quot;,Courier,monospace\">     ┌───┐┌───┐\n",
       "q_0: ┤ H ├┤ Z ├\n",
       "     ├───┤└───┘\n",
       "q_1: ┤ H ├─────\n",
       "     └───┘     </pre>"
      ],
      "text/plain": [
       "     ┌───┐┌───┐\n",
       "q_0: ┤ H ├┤ Z ├\n",
       "     ├───┤└───┘\n",
       "q_1: ┤ H ├─────\n",
       "     └───┘     "
      ]
     },
     "execution_count": 4,
     "metadata": {},
     "output_type": "execute_result"
    }
   ],
   "source": [
    "grover_c.z(0)\n",
    "grover_c.draw()"
   ]
  },
  {
   "cell_type": "code",
   "execution_count": 7,
   "metadata": {},
   "outputs": [
    {
     "data": {
      "text/html": [
       "<pre style=\"word-wrap: normal;white-space: pre;background: #fff0;line-height: 1.1;font-family: &quot;Courier New&quot;,Courier,monospace\">     ┌───┐┌───┐   \n",
       "q_0: ┤ H ├┤ Z ├─■─\n",
       "     ├───┤└───┘ │ \n",
       "q_1: ┤ H ├──────■─\n",
       "     └───┘        </pre>"
      ],
      "text/plain": [
       "     ┌───┐┌───┐   \n",
       "q_0: ┤ H ├┤ Z ├─■─\n",
       "     ├───┤└───┘ │ \n",
       "q_1: ┤ H ├──────■─\n",
       "     └───┘        "
      ]
     },
     "execution_count": 7,
     "metadata": {},
     "output_type": "execute_result"
    }
   ],
   "source": [
    "grover_c.cz(1, 0)\n",
    "grover_c.draw()"
   ]
  },
  {
   "cell_type": "code",
   "execution_count": 8,
   "metadata": {},
   "outputs": [],
   "source": [
    "from qiskit import QuantumCircuit, Aer, assemble\n",
    "from math import pi\n",
    "import numpy as np\n",
    "from qiskit.visualization import plot_bloch_multivector, plot_histogram, array_to_latex"
   ]
  },
  {
   "cell_type": "code",
   "execution_count": 9,
   "metadata": {},
   "outputs": [
    {
     "data": {
      "text/latex": [
       "$$\n",
       "\\text{Statevector} = \n",
       "\\begin{bmatrix}\n",
       "\\frac{1}{2} & - \\frac{1}{2} & \\frac{1}{2} & \\frac{1}{2}  \\\\\n",
       " \\end{bmatrix}\n",
       "$$"
      ],
      "text/plain": [
       "<IPython.core.display.Latex object>"
      ]
     },
     "metadata": {},
     "output_type": "display_data"
    }
   ],
   "source": [
    "# Let's see the result\n",
    "qc = grover_c.copy()\n",
    "svsim = Aer.get_backend('aer_simulator')\n",
    "qc.save_statevector()\n",
    "#qobj = assemble(qc)\n",
    "final_state = svsim.run(qc).result().get_statevector()\n",
    "display(array_to_latex(final_state, prefix=\"\\\\text{Statevector} = \"))\n",
    "#plot_bloch_multivector(final_state)"
   ]
  },
  {
   "cell_type": "code",
   "execution_count": 10,
   "metadata": {},
   "outputs": [
    {
     "data": {
      "text/plain": [
       "<qiskit.circuit.instructionset.InstructionSet at 0x1b7c4f15310>"
      ]
     },
     "execution_count": 10,
     "metadata": {},
     "output_type": "execute_result"
    }
   ],
   "source": [
    "grover_c.barrier()"
   ]
  },
  {
   "cell_type": "code",
   "execution_count": 11,
   "metadata": {},
   "outputs": [
    {
     "data": {
      "text/html": [
       "<pre style=\"word-wrap: normal;white-space: pre;background: #fff0;line-height: 1.1;font-family: &quot;Courier New&quot;,Courier,monospace\">     ┌───┐┌───┐    ░ ┌───┐\n",
       "q_0: ┤ H ├┤ Z ├─■──░─┤ H ├\n",
       "     ├───┤└───┘ │  ░ ├───┤\n",
       "q_1: ┤ H ├──────■──░─┤ H ├\n",
       "     └───┘         ░ └───┘</pre>"
      ],
      "text/plain": [
       "     ┌───┐┌───┐    ░ ┌───┐\n",
       "q_0: ┤ H ├┤ Z ├─■──░─┤ H ├\n",
       "     ├───┤└───┘ │  ░ ├───┤\n",
       "q_1: ┤ H ├──────■──░─┤ H ├\n",
       "     └───┘         ░ └───┘"
      ]
     },
     "execution_count": 11,
     "metadata": {},
     "output_type": "execute_result"
    }
   ],
   "source": [
    "for qubit in range(n):\n",
    "    grover_c.h(qubit)\n",
    "\n",
    "grover_c.draw()"
   ]
  },
  {
   "cell_type": "code",
   "execution_count": 12,
   "metadata": {},
   "outputs": [
    {
     "data": {
      "text/latex": [
       "$$\n",
       "\\text{Statevector} = \n",
       "\\begin{bmatrix}\n",
       "\\frac{1}{2} & \\frac{1}{2} & - \\frac{1}{2} & \\frac{1}{2}  \\\\\n",
       " \\end{bmatrix}\n",
       "$$"
      ],
      "text/plain": [
       "<IPython.core.display.Latex object>"
      ]
     },
     "metadata": {},
     "output_type": "display_data"
    }
   ],
   "source": [
    "# Let's see the result\n",
    "qc = grover_c.copy()\n",
    "svsim = Aer.get_backend('aer_simulator')\n",
    "qc.save_statevector()\n",
    "#qobj = assemble(qc)\n",
    "final_state = svsim.run(qc).result().get_statevector()\n",
    "display(array_to_latex(final_state, prefix=\"\\\\text{Statevector} = \"))\n",
    "#plot_bloch_multivector(final_state)"
   ]
  },
  {
   "cell_type": "code",
   "execution_count": 13,
   "metadata": {},
   "outputs": [
    {
     "data": {
      "text/html": [
       "<pre style=\"word-wrap: normal;white-space: pre;background: #fff0;line-height: 1.1;font-family: &quot;Courier New&quot;,Courier,monospace\">     ┌───┐┌───┐    ░ ┌───┐┌───┐\n",
       "q_0: ┤ H ├┤ Z ├─■──░─┤ H ├┤ Z ├\n",
       "     ├───┤└───┘ │  ░ ├───┤├───┤\n",
       "q_1: ┤ H ├──────■──░─┤ H ├┤ Z ├\n",
       "     └───┘         ░ └───┘└───┘</pre>"
      ],
      "text/plain": [
       "     ┌───┐┌───┐    ░ ┌───┐┌───┐\n",
       "q_0: ┤ H ├┤ Z ├─■──░─┤ H ├┤ Z ├\n",
       "     ├───┤└───┘ │  ░ ├───┤├───┤\n",
       "q_1: ┤ H ├──────■──░─┤ H ├┤ Z ├\n",
       "     └───┘         ░ └───┘└───┘"
      ]
     },
     "execution_count": 13,
     "metadata": {},
     "output_type": "execute_result"
    }
   ],
   "source": [
    "grover_c1 = grover_c.copy()\n",
    "for qubit in range(n):\n",
    "    grover_c1.z(qubit)\n",
    "\n",
    "grover_c1.draw()"
   ]
  },
  {
   "cell_type": "code",
   "execution_count": 14,
   "metadata": {},
   "outputs": [
    {
     "data": {
      "text/latex": [
       "$$\n",
       "\\text{Statevector} = \n",
       "\\begin{bmatrix}\n",
       "\\frac{1}{2} & - \\frac{1}{2} & \\frac{1}{2} & \\frac{1}{2}  \\\\\n",
       " \\end{bmatrix}\n",
       "$$"
      ],
      "text/plain": [
       "<IPython.core.display.Latex object>"
      ]
     },
     "metadata": {},
     "output_type": "display_data"
    }
   ],
   "source": [
    "# Let's see the result\n",
    "qc = grover_c1.copy()\n",
    "svsim = Aer.get_backend('aer_simulator')\n",
    "qc.save_statevector()\n",
    "#qobj = assemble(qc)\n",
    "final_state = svsim.run(qc).result().get_statevector()\n",
    "display(array_to_latex(final_state, prefix=\"\\\\text{Statevector} = \"))\n",
    "#plot_bloch_multivector(final_state)"
   ]
  },
  {
   "cell_type": "code",
   "execution_count": null,
   "metadata": {},
   "outputs": [],
   "source": []
  },
  {
   "cell_type": "code",
   "execution_count": 15,
   "metadata": {},
   "outputs": [
    {
     "data": {
      "text/html": [
       "<pre style=\"word-wrap: normal;white-space: pre;background: #fff0;line-height: 1.1;font-family: &quot;Courier New&quot;,Courier,monospace\">     ┌───┐┌───┐    ░ ┌───┐┌───┐   \n",
       "q_0: ┤ H ├┤ Z ├─■──░─┤ H ├┤ Z ├─■─\n",
       "     ├───┤└───┘ │  ░ ├───┤├───┤ │ \n",
       "q_1: ┤ H ├──────■──░─┤ H ├┤ Z ├─■─\n",
       "     └───┘         ░ └───┘└───┘   </pre>"
      ],
      "text/plain": [
       "     ┌───┐┌───┐    ░ ┌───┐┌───┐   \n",
       "q_0: ┤ H ├┤ Z ├─■──░─┤ H ├┤ Z ├─■─\n",
       "     ├───┤└───┘ │  ░ ├───┤├───┤ │ \n",
       "q_1: ┤ H ├──────■──░─┤ H ├┤ Z ├─■─\n",
       "     └───┘         ░ └───┘└───┘   "
      ]
     },
     "execution_count": 15,
     "metadata": {},
     "output_type": "execute_result"
    }
   ],
   "source": [
    "grover_c1.cz(0, 1)\n",
    "grover_c1.draw()"
   ]
  },
  {
   "cell_type": "code",
   "execution_count": 16,
   "metadata": {},
   "outputs": [
    {
     "data": {
      "text/latex": [
       "$$\n",
       "\\text{Statevector} = \n",
       "\\begin{bmatrix}\n",
       "\\frac{1}{2} & - \\frac{1}{2} & \\frac{1}{2} & - \\frac{1}{2}  \\\\\n",
       " \\end{bmatrix}\n",
       "$$"
      ],
      "text/plain": [
       "<IPython.core.display.Latex object>"
      ]
     },
     "metadata": {},
     "output_type": "display_data"
    }
   ],
   "source": [
    "# Let's see the result\n",
    "qc = grover_c1.copy()\n",
    "svsim = Aer.get_backend('aer_simulator')\n",
    "qc.save_statevector()\n",
    "#qobj = assemble(qc)\n",
    "final_state = svsim.run(qc).result().get_statevector()\n",
    "display(array_to_latex(final_state, prefix=\"\\\\text{Statevector} = \"))\n",
    "#plot_bloch_multivector(final_state)"
   ]
  },
  {
   "cell_type": "code",
   "execution_count": 17,
   "metadata": {},
   "outputs": [
    {
     "data": {
      "text/html": [
       "<pre style=\"word-wrap: normal;white-space: pre;background: #fff0;line-height: 1.1;font-family: &quot;Courier New&quot;,Courier,monospace\">     ┌───┐┌───┐    ░ ┌───┐┌───┐   ┌───┐\n",
       "q_0: ┤ H ├┤ Z ├─■──░─┤ H ├┤ Z ├─■─┤ H ├\n",
       "     ├───┤└───┘ │  ░ ├───┤├───┤ │ ├───┤\n",
       "q_1: ┤ H ├──────■──░─┤ H ├┤ Z ├─■─┤ H ├\n",
       "     └───┘         ░ └───┘└───┘   └───┘</pre>"
      ],
      "text/plain": [
       "     ┌───┐┌───┐    ░ ┌───┐┌───┐   ┌───┐\n",
       "q_0: ┤ H ├┤ Z ├─■──░─┤ H ├┤ Z ├─■─┤ H ├\n",
       "     ├───┤└───┘ │  ░ ├───┤├───┤ │ ├───┤\n",
       "q_1: ┤ H ├──────■──░─┤ H ├┤ Z ├─■─┤ H ├\n",
       "     └───┘         ░ └───┘└───┘   └───┘"
      ]
     },
     "execution_count": 17,
     "metadata": {},
     "output_type": "execute_result"
    }
   ],
   "source": [
    "for qubit in range(n):\n",
    "    grover_c1.h(qubit)\n",
    "\n",
    "grover_c1.draw()"
   ]
  },
  {
   "cell_type": "code",
   "execution_count": 18,
   "metadata": {},
   "outputs": [
    {
     "data": {
      "text/latex": [
       "$$\n",
       "\\text{Statevector} = \n",
       "\\begin{bmatrix}\n",
       "0 & 1 & 0 & 0  \\\\\n",
       " \\end{bmatrix}\n",
       "$$"
      ],
      "text/plain": [
       "<IPython.core.display.Latex object>"
      ]
     },
     "metadata": {},
     "output_type": "display_data"
    }
   ],
   "source": [
    "# Let's see the result\n",
    "qc = grover_c1.copy()\n",
    "svsim = Aer.get_backend('aer_simulator')\n",
    "qc.save_statevector()\n",
    "#qobj = assemble(qc)\n",
    "final_state = svsim.run(qc).result().get_statevector()\n",
    "display(array_to_latex(final_state, prefix=\"\\\\text{Statevector} = \"))\n",
    "#plot_bloch_multivector(final_state)"
   ]
  }
 ],
 "metadata": {
  "kernelspec": {
   "display_name": "qenv2",
   "language": "python",
   "name": "python3"
  },
  "language_info": {
   "codemirror_mode": {
    "name": "ipython",
    "version": 3
   },
   "file_extension": ".py",
   "mimetype": "text/x-python",
   "name": "python",
   "nbconvert_exporter": "python",
   "pygments_lexer": "ipython3",
   "version": "3.8.16"
  },
  "orig_nbformat": 4
 },
 "nbformat": 4,
 "nbformat_minor": 2
}

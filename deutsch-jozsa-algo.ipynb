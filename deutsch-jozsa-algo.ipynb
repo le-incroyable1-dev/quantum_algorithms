{
 "cells": [
  {
   "cell_type": "code",
   "execution_count": 1,
   "metadata": {},
   "outputs": [],
   "source": [
    "# initialization\n",
    "import numpy as np\n",
    "\n",
    "# importing Qiskit\n",
    "from qiskit import IBMQ, Aer\n",
    "from qiskit.providers.ibmq import least_busy\n",
    "from qiskit import QuantumCircuit, transpile\n",
    "\n",
    "# import basic plot tools\n",
    "from qiskit.visualization import plot_histogram"
   ]
  },
  {
   "cell_type": "code",
   "execution_count": 7,
   "metadata": {},
   "outputs": [],
   "source": [
    "from qiskit import QuantumCircuit, Aer, assemble\n",
    "from math import pi\n",
    "import numpy as np\n",
    "from qiskit.visualization import plot_bloch_multivector, plot_histogram, array_to_latex"
   ]
  },
  {
   "cell_type": "code",
   "execution_count": 3,
   "metadata": {},
   "outputs": [],
   "source": [
    "# set the length of the n-bit input string. \n",
    "n = 3"
   ]
  },
  {
   "cell_type": "code",
   "execution_count": 4,
   "metadata": {},
   "outputs": [
    {
     "data": {
      "text/html": [
       "<pre style=\"word-wrap: normal;white-space: pre;background: #fff0;line-height: 1.1;font-family: &quot;Courier New&quot;,Courier,monospace\">     \n",
       "q_0: \n",
       "     \n",
       "q_1: \n",
       "     \n",
       "q_2: \n",
       "     \n",
       "q_3: \n",
       "     </pre>"
      ],
      "text/plain": [
       "     \n",
       "q_0: \n",
       "     \n",
       "q_1: \n",
       "     \n",
       "q_2: \n",
       "     \n",
       "q_3: \n",
       "     "
      ]
     },
     "execution_count": 4,
     "metadata": {},
     "output_type": "execute_result"
    }
   ],
   "source": [
    "const_oracle = QuantumCircuit(n+1)\n",
    "\n",
    "output = np.random.randint(2)\n",
    "if output == 1:\n",
    "    const_oracle.x(n)\n",
    "\n",
    "const_oracle.draw()"
   ]
  },
  {
   "cell_type": "code",
   "execution_count": 30,
   "metadata": {},
   "outputs": [
    {
     "data": {
      "text/html": [
       "<pre style=\"word-wrap: normal;white-space: pre;background: #fff0;line-height: 1.1;font-family: &quot;Courier New&quot;,Courier,monospace\">     ┌───┐ ░                 ░ ┌───┐\n",
       "q_0: ┤ X ├─░───■─────────────░─┤ X ├\n",
       "     └───┘ ░   │             ░ └───┘\n",
       "q_1: ──────░───┼────■────────░──────\n",
       "     ┌───┐ ░   │    │        ░ ┌───┐\n",
       "q_2: ┤ X ├─░───┼────┼────■───░─┤ X ├\n",
       "     └───┘ ░ ┌─┴─┐┌─┴─┐┌─┴─┐ ░ └───┘\n",
       "q_3: ──────░─┤ X ├┤ X ├┤ X ├─░──────\n",
       "           ░ └───┘└───┘└───┘ ░      </pre>"
      ],
      "text/plain": [
       "     ┌───┐ ░                 ░ ┌───┐\n",
       "q_0: ┤ X ├─░───■─────────────░─┤ X ├\n",
       "     └───┘ ░   │             ░ └───┘\n",
       "q_1: ──────░───┼────■────────░──────\n",
       "     ┌───┐ ░   │    │        ░ ┌───┐\n",
       "q_2: ┤ X ├─░───┼────┼────■───░─┤ X ├\n",
       "     └───┘ ░ ┌─┴─┐┌─┴─┐┌─┴─┐ ░ └───┘\n",
       "q_3: ──────░─┤ X ├┤ X ├┤ X ├─░──────\n",
       "           ░ └───┘└───┘└───┘ ░      "
      ]
     },
     "execution_count": 30,
     "metadata": {},
     "output_type": "execute_result"
    }
   ],
   "source": [
    "balanced_oracle = QuantumCircuit(n+1)\n",
    "b_str = \"101\"\n",
    "\n",
    "# Place X-gates\n",
    "for qubit in range(len(b_str)):\n",
    "    if b_str[qubit] == '1':\n",
    "        balanced_oracle.x(qubit)\n",
    "\n",
    "# Use barrier as divider\n",
    "balanced_oracle.barrier()\n",
    "\n",
    "# Controlled-NOT gates\n",
    "for qubit in range(n):\n",
    "    balanced_oracle.cx(qubit, n)\n",
    "\n",
    "balanced_oracle.barrier()\n",
    "\n",
    "# Place X-gates\n",
    "for qubit in range(len(b_str)):\n",
    "    if b_str[qubit] == '1':\n",
    "        balanced_oracle.x(qubit)\n",
    "\n",
    "# Show oracle\n",
    "balanced_oracle.draw()"
   ]
  },
  {
   "cell_type": "code",
   "execution_count": 33,
   "metadata": {},
   "outputs": [
    {
     "data": {
      "text/html": [
       "<pre style=\"word-wrap: normal;white-space: pre;background: #fff0;line-height: 1.1;font-family: &quot;Courier New&quot;,Courier,monospace\">     ┌───┐     \n",
       "q_0: ┤ H ├─────\n",
       "     ├───┤     \n",
       "q_1: ┤ H ├─────\n",
       "     ├───┤     \n",
       "q_2: ┤ H ├─────\n",
       "     ├───┤┌───┐\n",
       "q_3: ┤ X ├┤ H ├\n",
       "     └───┘└───┘</pre>"
      ],
      "text/plain": [
       "     ┌───┐     \n",
       "q_0: ┤ H ├─────\n",
       "     ├───┤     \n",
       "q_1: ┤ H ├─────\n",
       "     ├───┤     \n",
       "q_2: ┤ H ├─────\n",
       "     ├───┤┌───┐\n",
       "q_3: ┤ X ├┤ H ├\n",
       "     └───┘└───┘"
      ]
     },
     "execution_count": 33,
     "metadata": {},
     "output_type": "execute_result"
    }
   ],
   "source": [
    "dj_circuit = QuantumCircuit(n+1)\n",
    "\n",
    "for qubit in range(n):\n",
    "    dj_circuit.h(qubit)\n",
    "\n",
    "dj_circuit.x(n)\n",
    "dj_circuit.h(n)\n",
    "dj_circuit.draw()"
   ]
  },
  {
   "cell_type": "code",
   "execution_count": 34,
   "metadata": {},
   "outputs": [
    {
     "data": {
      "text/html": [
       "<pre style=\"word-wrap: normal;white-space: pre;background: #fff0;line-height: 1.1;font-family: &quot;Courier New&quot;,Courier,monospace\">     ┌───┐      ░ ┌───┐ ░                 ░ ┌───┐\n",
       "q_0: ┤ H ├──────░─┤ X ├─░───■─────────────░─┤ X ├\n",
       "     ├───┤      ░ └───┘ ░   │             ░ └───┘\n",
       "q_1: ┤ H ├──────░───────░───┼────■────────░──────\n",
       "     ├───┤      ░ ┌───┐ ░   │    │        ░ ┌───┐\n",
       "q_2: ┤ H ├──────░─┤ X ├─░───┼────┼────■───░─┤ X ├\n",
       "     ├───┤┌───┐ ░ └───┘ ░ ┌─┴─┐┌─┴─┐┌─┴─┐ ░ └───┘\n",
       "q_3: ┤ X ├┤ H ├─░───────░─┤ X ├┤ X ├┤ X ├─░──────\n",
       "     └───┘└───┘ ░       ░ └───┘└───┘└───┘ ░      </pre>"
      ],
      "text/plain": [
       "     ┌───┐      ░ ┌───┐ ░                 ░ ┌───┐\n",
       "q_0: ┤ H ├──────░─┤ X ├─░───■─────────────░─┤ X ├\n",
       "     ├───┤      ░ └───┘ ░   │             ░ └───┘\n",
       "q_1: ┤ H ├──────░───────░───┼────■────────░──────\n",
       "     ├───┤      ░ ┌───┐ ░   │    │        ░ ┌───┐\n",
       "q_2: ┤ H ├──────░─┤ X ├─░───┼────┼────■───░─┤ X ├\n",
       "     ├───┤┌───┐ ░ └───┘ ░ ┌─┴─┐┌─┴─┐┌─┴─┐ ░ └───┘\n",
       "q_3: ┤ X ├┤ H ├─░───────░─┤ X ├┤ X ├┤ X ├─░──────\n",
       "     └───┘└───┘ ░       ░ └───┘└───┘└───┘ ░      "
      ]
     },
     "execution_count": 34,
     "metadata": {},
     "output_type": "execute_result"
    }
   ],
   "source": [
    "dj_circuit.barrier()\n",
    "dj_circuit = dj_circuit.compose(balanced_oracle)\n",
    "dj_circuit.draw()"
   ]
  },
  {
   "cell_type": "code",
   "execution_count": 35,
   "metadata": {},
   "outputs": [
    {
     "data": {
      "text/html": [
       "<pre style=\"word-wrap: normal;white-space: pre;background: #fff0;line-height: 1.1;font-family: &quot;Courier New&quot;,Courier,monospace\">     ┌───┐      ░ ┌───┐ ░                 ░ ┌───┐ ░ ┌───┐\n",
       "q_0: ┤ H ├──────░─┤ X ├─░───■─────────────░─┤ X ├─░─┤ H ├\n",
       "     ├───┤      ░ └───┘ ░   │             ░ └───┘ ░ ├───┤\n",
       "q_1: ┤ H ├──────░───────░───┼────■────────░───────░─┤ H ├\n",
       "     ├───┤      ░ ┌───┐ ░   │    │        ░ ┌───┐ ░ ├───┤\n",
       "q_2: ┤ H ├──────░─┤ X ├─░───┼────┼────■───░─┤ X ├─░─┤ H ├\n",
       "     ├───┤┌───┐ ░ └───┘ ░ ┌─┴─┐┌─┴─┐┌─┴─┐ ░ └───┘ ░ └───┘\n",
       "q_3: ┤ X ├┤ H ├─░───────░─┤ X ├┤ X ├┤ X ├─░───────░──────\n",
       "     └───┘└───┘ ░       ░ └───┘└───┘└───┘ ░       ░      </pre>"
      ],
      "text/plain": [
       "     ┌───┐      ░ ┌───┐ ░                 ░ ┌───┐ ░ ┌───┐\n",
       "q_0: ┤ H ├──────░─┤ X ├─░───■─────────────░─┤ X ├─░─┤ H ├\n",
       "     ├───┤      ░ └───┘ ░   │             ░ └───┘ ░ ├───┤\n",
       "q_1: ┤ H ├──────░───────░───┼────■────────░───────░─┤ H ├\n",
       "     ├───┤      ░ ┌───┐ ░   │    │        ░ ┌───┐ ░ ├───┤\n",
       "q_2: ┤ H ├──────░─┤ X ├─░───┼────┼────■───░─┤ X ├─░─┤ H ├\n",
       "     ├───┤┌───┐ ░ └───┘ ░ ┌─┴─┐┌─┴─┐┌─┴─┐ ░ └───┘ ░ └───┘\n",
       "q_3: ┤ X ├┤ H ├─░───────░─┤ X ├┤ X ├┤ X ├─░───────░──────\n",
       "     └───┘└───┘ ░       ░ └───┘└───┘└───┘ ░       ░      "
      ]
     },
     "execution_count": 35,
     "metadata": {},
     "output_type": "execute_result"
    }
   ],
   "source": [
    "dj_circuit.barrier()\n",
    "\n",
    "for qubit in range(n):\n",
    "    dj_circuit.h(qubit)\n",
    "\n",
    "dj_circuit.draw()"
   ]
  },
  {
   "cell_type": "code",
   "execution_count": 36,
   "metadata": {},
   "outputs": [],
   "source": [
    "dj_circuit.measure_all()"
   ]
  },
  {
   "cell_type": "code",
   "execution_count": 37,
   "metadata": {},
   "outputs": [
    {
     "data": {
      "text/html": [
       "<pre style=\"word-wrap: normal;white-space: pre;background: #fff0;line-height: 1.1;font-family: &quot;Courier New&quot;,Courier,monospace\">        ┌───┐      ░ ┌───┐ ░                 ░ ┌───┐ ░ ┌───┐ ░ ┌─┐         ┌─┐»\n",
       "   q_0: ┤ H ├──────░─┤ X ├─░───■─────────────░─┤ X ├─░─┤ H ├─░─┤M├─────────┤M├»\n",
       "        ├───┤      ░ └───┘ ░   │             ░ └───┘ ░ ├───┤ ░ └╥┘┌─┐      └╥┘»\n",
       "   q_1: ┤ H ├──────░───────░───┼────■────────░───────░─┤ H ├─░──╫─┤M├───────╫─»\n",
       "        ├───┤      ░ ┌───┐ ░   │    │        ░ ┌───┐ ░ ├───┤ ░  ║ └╥┘┌─┐    ║ »\n",
       "   q_2: ┤ H ├──────░─┤ X ├─░───┼────┼────■───░─┤ X ├─░─┤ H ├─░──╫──╫─┤M├────╫─»\n",
       "        ├───┤┌───┐ ░ └───┘ ░ ┌─┴─┐┌─┴─┐┌─┴─┐ ░ └───┘ ░ └───┘ ░  ║  ║ └╥┘┌─┐ ║ »\n",
       "   q_3: ┤ X ├┤ H ├─░───────░─┤ X ├┤ X ├┤ X ├─░───────░───────░──╫──╫──╫─┤M├─╫─»\n",
       "        └───┘└───┘ ░       ░ └───┘└───┘└───┘ ░       ░       ░  ║  ║  ║ └╥┘ ║ »\n",
       "meas: 4/════════════════════════════════════════════════════════╩══╩══╩══╩══╩═»\n",
       "                                                                0  1  2  3  0 »\n",
       "«              \n",
       "«   q_0: ──────\n",
       "«        ┌─┐   \n",
       "«   q_1: ┤M├───\n",
       "«        └╥┘┌─┐\n",
       "«   q_2: ─╫─┤M├\n",
       "«         ║ └╥┘\n",
       "«   q_3: ─╫──╫─\n",
       "«         ║  ║ \n",
       "«meas: 4/═╩══╩═\n",
       "«         1  2 </pre>"
      ],
      "text/plain": [
       "        ┌───┐      ░ ┌───┐ ░                 ░ ┌───┐ ░ ┌───┐ ░ ┌─┐         ┌─┐»\n",
       "   q_0: ┤ H ├──────░─┤ X ├─░───■─────────────░─┤ X ├─░─┤ H ├─░─┤M├─────────┤M├»\n",
       "        ├───┤      ░ └───┘ ░   │             ░ └───┘ ░ ├───┤ ░ └╥┘┌─┐      └╥┘»\n",
       "   q_1: ┤ H ├──────░───────░───┼────■────────░───────░─┤ H ├─░──╫─┤M├───────╫─»\n",
       "        ├───┤      ░ ┌───┐ ░   │    │        ░ ┌───┐ ░ ├───┤ ░  ║ └╥┘┌─┐    ║ »\n",
       "   q_2: ┤ H ├──────░─┤ X ├─░───┼────┼────■───░─┤ X ├─░─┤ H ├─░──╫──╫─┤M├────╫─»\n",
       "        ├───┤┌───┐ ░ └───┘ ░ ┌─┴─┐┌─┴─┐┌─┴─┐ ░ └───┘ ░ └───┘ ░  ║  ║ └╥┘┌─┐ ║ »\n",
       "   q_3: ┤ X ├┤ H ├─░───────░─┤ X ├┤ X ├┤ X ├─░───────░───────░──╫──╫──╫─┤M├─╫─»\n",
       "        └───┘└───┘ ░       ░ └───┘└───┘└───┘ ░       ░       ░  ║  ║  ║ └╥┘ ║ »\n",
       "meas: 4/════════════════════════════════════════════════════════╩══╩══╩══╩══╩═»\n",
       "                                                                0  1  2  3  0 »\n",
       "«              \n",
       "«   q_0: ──────\n",
       "«        ┌─┐   \n",
       "«   q_1: ┤M├───\n",
       "«        └╥┘┌─┐\n",
       "«   q_2: ─╫─┤M├\n",
       "«         ║ └╥┘\n",
       "«   q_3: ─╫──╫─\n",
       "«         ║  ║ \n",
       "«meas: 4/═╩══╩═\n",
       "«         1  2 "
      ]
     },
     "execution_count": 37,
     "metadata": {},
     "output_type": "execute_result"
    }
   ],
   "source": [
    "for i in range(n):\n",
    "    dj_circuit.measure(i, i)\n",
    "\n",
    "dj_circuit.draw()"
   ]
  },
  {
   "cell_type": "code",
   "execution_count": 38,
   "metadata": {},
   "outputs": [
    {
     "data": {
      "image/png": "[encoded data removed]",
      "text/plain": [
       "<Figure size 700x500 with 1 Axes>"
      ]
     },
     "execution_count": 38,
     "metadata": {},
     "output_type": "execute_result"
    }
   ],
   "source": [
    "# use local simulator\n",
    "aer_sim = Aer.get_backend('aer_simulator')\n",
    "results = aer_sim.run(dj_circuit).result()\n",
    "answer = results.get_counts()\n",
    "\n",
    "plot_histogram(answer)"
   ]
  }
 ],
 "metadata": {
  "kernelspec": {
   "display_name": "qenv2",
   "language": "python",
   "name": "python3"
  },
  "language_info": {
   "codemirror_mode": {
    "name": "ipython",
    "version": 3
   },
   "file_extension": ".py",
   "mimetype": "text/x-python",
   "name": "python",
   "nbconvert_exporter": "python",
   "pygments_lexer": "ipython3",
   "version": "3.8.16"
  },
  "orig_nbformat": 4
 },
 "nbformat": 4,
 "nbformat_minor": 2
}
